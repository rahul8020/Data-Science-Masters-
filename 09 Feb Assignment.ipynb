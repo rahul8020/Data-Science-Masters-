{
 "cells": [
  {
   "cell_type": "markdown",
   "id": "06e3ebbf",
   "metadata": {},
   "source": [
    "## 09 FEB"
   ]
  },
  {
   "cell_type": "markdown",
   "id": "0158884c",
   "metadata": {},
   "source": [
    "### 1  Create a vehicle class with an init method having instance variables as name_of_vehicle, max_speed and average_of_vehicle."
   ]
  },
  {
   "cell_type": "code",
   "execution_count": 41,
   "id": "8d5bafd7",
   "metadata": {},
   "outputs": [
    {
     "data": {
      "text/plain": [
       "'zen'"
      ]
     },
     "execution_count": 41,
     "metadata": {},
     "output_type": "execute_result"
    }
   ],
   "source": [
    "class vehicle :\n",
    "    def __init__(self,name_of_vehicle, max_speed,average_of_vehicle):\n",
    "        self.name_of_vehicle=name_of_vehicle\n",
    "        self.max_speed=max_speed\n",
    "        self.average_of_vehicle=average_of_vehicle\n",
    "    def display(self):\n",
    "        return self.name_of_vehicle        \n",
    "        \n",
    "m=vehicle(\"zen\",140,16)\n",
    "m.max_speed\n",
    "m.name_of_vehicle\n",
    "    "
   ]
  },
  {
   "cell_type": "markdown",
   "id": "d7e43ed0",
   "metadata": {},
   "source": [
    "### 2 Create a child class car from the vehicle class created in Que 1, which will inherit the vehicle class.Create a method named seating _ capacity which takes capacity as an argument and returns the name ofthe vehicle and its seating capacity."
   ]
  },
  {
   "cell_type": "code",
   "execution_count": 50,
   "id": "eeedc097",
   "metadata": {},
   "outputs": [
    {
     "data": {
      "text/plain": [
       "('zen', 5)"
      ]
     },
     "execution_count": 50,
     "metadata": {},
     "output_type": "execute_result"
    }
   ],
   "source": [
    "class n(vehicle): \n",
    "    def seating_capacity(self, capacity):\n",
    "        return self.display() ,capacity\n",
    "\n",
    "q=n(\"zen\",140,16)\n",
    "q.seating_capacity(5)    \n",
    "   \n",
    "        \n",
    "    "
   ]
  },
  {
   "cell_type": "markdown",
   "id": "0cd6b249",
   "metadata": {},
   "source": [
    "### 3 What is multiple inheritance? Write a python code to demonstrate multiple inheritance."
   ]
  },
  {
   "cell_type": "markdown",
   "id": "1f430c5b",
   "metadata": {},
   "source": [
    "#### It means an object or class can inherit features from more than one parent object or parent class"
   ]
  },
  {
   "cell_type": "code",
   "execution_count": 51,
   "id": "2798f111",
   "metadata": {},
   "outputs": [
    {
     "name": "stdout",
     "output_type": "stream",
     "text": [
      "Hi\n",
      "Rahul\n",
      "ji\n"
     ]
    }
   ],
   "source": [
    "class A:\n",
    "    def hi(self):\n",
    "        print(\"Hi\")\n",
    "class B:\n",
    "    def rahul(self):\n",
    "        print(\"Rahul\")\n",
    "class C(A,B):\n",
    "    def ji(self):\n",
    "        super().hi()\n",
    "        super().rahul()\n",
    "        print (\"ji\")\n",
    "       \n",
    "c=C()\n",
    "c.ji()    \n",
    "        "
   ]
  },
  {
   "cell_type": "markdown",
   "id": "08a2fae4",
   "metadata": {},
   "source": [
    "### 4 What are getter and setter in python? Create a class and create a getter and a setter method in this class."
   ]
  },
  {
   "cell_type": "code",
   "execution_count": 68,
   "id": "31d27207",
   "metadata": {},
   "outputs": [
    {
     "data": {
      "text/plain": [
       "20"
      ]
     },
     "execution_count": 68,
     "metadata": {},
     "output_type": "execute_result"
    }
   ],
   "source": [
    "class person:\n",
    "    def __init__(self, name, age):\n",
    "        self._name = name\n",
    "        self._age = age\n",
    "\n",
    "    def get_name(self):\n",
    "        return self._name\n",
    "\n",
    "    def get_age(self):\n",
    "        return self._age\n",
    "    \n",
    "    def set_name(self, name):\n",
    "        self._name = name\n",
    "\n",
    "    def set_age(self, age):\n",
    "        if age < 0:\n",
    "            print (\"Age cannot be negative\")\n",
    "        else:    \n",
    "            self._age = age\n",
    "\n",
    "m=person(\"rahul\",10)\n",
    "m.get_name\n",
    "m.set_age(20)\n",
    "m.get_age()"
   ]
  },
  {
   "cell_type": "markdown",
   "id": "5f6e780d",
   "metadata": {},
   "source": [
    "### 5 What is method overriding in python? Write a python code to demonstrate method overriding."
   ]
  },
  {
   "cell_type": "markdown",
   "id": "6378b1e4",
   "metadata": {},
   "source": [
    "#### Method overriding is a concept in object-oriented programming where a subclass provides its own implementation of a method that is already defined in its superclass. When a method is called on an object of the subclass, the subclass's implementation of the method is executed instead of the superclass's implementation."
   ]
  },
  {
   "cell_type": "code",
   "execution_count": 70,
   "id": "7f53aac6",
   "metadata": {},
   "outputs": [
    {
     "name": "stdout",
     "output_type": "stream",
     "text": [
      "The animal makes a sound.\n",
      "The dog barks.\n",
      "The cat meows\n"
     ]
    }
   ],
   "source": [
    "class Animal:\n",
    "    def make_sound(self):\n",
    "        print(\"The animal makes a sound.\")\n",
    "\n",
    "\n",
    "class Dog(Animal):\n",
    "    def make_sound(self):\n",
    "        print(\"The dog barks.\")\n",
    "\n",
    "\n",
    "class Cat(Animal):\n",
    "    def make_sound(self):\n",
    "        print(\"The cat meows\")\n",
    "\n",
    "\n",
    "animal = Animal()\n",
    "dog = Dog()\n",
    "cat = Cat()\n",
    "\n",
    "animal.make_sound() \n",
    "dog.make_sound()  \n",
    "cat.make_sound()  \n"
   ]
  },
  {
   "cell_type": "code",
   "execution_count": null,
   "id": "4c51ea92",
   "metadata": {},
   "outputs": [],
   "source": []
  }
 ],
 "metadata": {
  "kernelspec": {
   "display_name": "Python 3 (ipykernel)",
   "language": "python",
   "name": "python3"
  },
  "language_info": {
   "codemirror_mode": {
    "name": "ipython",
    "version": 3
   },
   "file_extension": ".py",
   "mimetype": "text/x-python",
   "name": "python",
   "nbconvert_exporter": "python",
   "pygments_lexer": "ipython3",
   "version": "3.9.7"
  }
 },
 "nbformat": 4,
 "nbformat_minor": 5
}
