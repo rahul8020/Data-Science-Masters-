{
 "cells": [
  {
   "cell_type": "markdown",
   "id": "9dc7531d",
   "metadata": {},
   "source": [
    "# 18 FEB API "
   ]
  },
  {
   "cell_type": "markdown",
   "id": "3f409aed",
   "metadata": {},
   "source": [
    "## Q1. What is an API? Give an example, where an API is used in real life."
   ]
  },
  {
   "cell_type": "markdown",
   "id": "149f00ec",
   "metadata": {},
   "source": [
    "### An API is called as application Programming Interface which is used in web applications to connect the front end to the backend where the compution is done.\n",
    "### Example - Stock market (Angel Broking) API used by an individual which enable them carry out trades orders ."
   ]
  },
  {
   "cell_type": "markdown",
   "id": "70e2c5c3",
   "metadata": {},
   "source": [
    "## Q2. Give advantages and disadvantages of using API."
   ]
  },
  {
   "cell_type": "markdown",
   "id": "db9d9c1b",
   "metadata": {},
   "source": [
    "### API Advantages:\n",
    "### Can provide a way to access functionality or data that is not otherwise readily available or accessible.\n",
    "### Can provide a way to automate tasks.\n",
    "### Can help to improve communication between Hetrogenous and Homogenous systems.\n",
    "### API Disadvantages \n",
    "### Can be difficult to use and understand.\n",
    "### Cannot be guaranteed to be stable or backwards compatible.\n",
    "### May require a certain level of technical expertise in order to use them effectively"
   ]
  },
  {
   "cell_type": "markdown",
   "id": "5f86c3eb",
   "metadata": {},
   "source": [
    "## Q2 What is a Web API? Differentiate between API and Web API."
   ]
  },
  {
   "cell_type": "markdown",
   "id": "b39fa3ee",
   "metadata": {},
   "source": [
    "### An API (Application Programming Interface) is a set of protocols, routines, and tools for building software applications. It defines how software components should interact and communicate with each other. An API can be implemented in various forms, including libraries, frameworks, operating systems, and web services.\n",
    "### A Web API, also known as a web service API, is an API that is accessed over a network through a web protocol, such as HTTP or HTTPS. It allows different software applications to communicate with each other over the web. A Web API exposes a set of endpoints that can be accessed using HTTP requests, and typically returns data in a format such as JSON or XML.\n",
    "### The main difference between an API and a Web API is the communication protocol they use. While an API can be implemented in any form, including a web service, a Web API is specifically designed for use over the web. Additionally, Web APIs are usually standardized using web technologies such as HTTP and REST (Representational State Transfer) to allow for easy integration with web-based applications."
   ]
  },
  {
   "cell_type": "markdown",
   "id": "4474e962",
   "metadata": {},
   "source": [
    "## Q4. Explain REST and SOAP Architecture. Mention shortcomings of SOAP."
   ]
  },
  {
   "cell_type": "markdown",
   "id": "5c8f531c",
   "metadata": {},
   "source": [
    "### REST Architecture:\n",
    "### REST is an architectural style for building web services that are lightweight, scalable, and easy to maintain. REST services are based on the HTTP protocol and use simple CRUD (Create, Read, Update, Delete) operations to interact with resources. RESTful web services are stateless, meaning that each request contains all the necessary information to complete the request, and there is no session state maintained on the server.\n",
    "### SOAP Architecture:\n",
    "### SOAP is an XML-based messaging protocol used for exchanging data between web services. SOAP provides a standardized format for messages and a set of rules for exchanging those messages between web services. SOAP can be used with any transport protocol, including HTTP, SMTP, and TCP/IP. SOAP services are usually implemented using XML and WSDL (Web Services Description Language) to describe the service interface.\n",
    "### Shortcomings of SOAP:\n",
    "### While SOAP has some benefits, it also has several shortcomings that have led to the popularity of REST as an alternative web service architecture. Some of the shortcomings of SOAP include:\n",
    "### Complexity: SOAP services are complex and can be difficult to implement and maintain, especially for smaller applications.\n",
    "### Performance: SOAP messages are typically larger and more complex than REST messages, which can impact performance, especially over slow or unreliable networks.\n",
    "### Security: SOAP services require a lot of configuration to ensure secure communication between web services.\n",
    "### Limited support for mobile platforms: SOAP services are not well suited for mobile devices because they are typically designed for high-bandwidth, high-performance networks.\n",
    "### Limited support for caching: SOAP messages are not as easily cached as REST messages, which can impact performance in certain scenarios."
   ]
  },
  {
   "cell_type": "markdown",
   "id": "5c212bb7",
   "metadata": {},
   "source": [
    "## Q5. Differentiate between REST and SOAP."
   ]
  },
  {
   "cell_type": "markdown",
   "id": "27a1c794",
   "metadata": {},
   "source": [
    "### Protocol: REST uses HTTP/HTTPS protocol for communication, whereas SOAP can use any protocol such as HTTP, SMTP, or TCP/IP.\n",
    "### 1 Message format: REST uses lightweight and easy-to-parse message formats such as JSON or XML, whereas SOAP uses XML exclusively, which can be more verbose and complex.\n",
    "### 2 Service interface: REST services have a simple, resource-oriented interface, whereas SOAP services are described using WSDL (Web Services Description Language), which can be more complex and formal.\n",
    "### 3 Statelessness: RESTful web services are stateless, meaning that each request contains all the necessary information to complete the request, and there is no session state maintained on the server. SOAP services, on the other hand, are stateful, meaning that they maintain session state on the server.\n",
    "### 4 Caching: REST services are designed to be cacheable, which can improve performance by reducing network traffic. SOAP services are typically not cacheable.\n",
    "### 5 Performance: REST services are generally faster and more efficient than SOAP services, especially over slow or unreliable networks, because they use lightweight message formats and require fewer network round-trips."
   ]
  },
  {
   "cell_type": "code",
   "execution_count": null,
   "id": "34ddd042",
   "metadata": {},
   "outputs": [],
   "source": []
  }
 ],
 "metadata": {
  "kernelspec": {
   "display_name": "Python 3 (ipykernel)",
   "language": "python",
   "name": "python3"
  },
  "language_info": {
   "codemirror_mode": {
    "name": "ipython",
    "version": 3
   },
   "file_extension": ".py",
   "mimetype": "text/x-python",
   "name": "python",
   "nbconvert_exporter": "python",
   "pygments_lexer": "ipython3",
   "version": "3.9.7"
  }
 },
 "nbformat": 4,
 "nbformat_minor": 5
}
