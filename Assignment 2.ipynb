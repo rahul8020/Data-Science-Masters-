{
 "cells": [
  {
   "cell_type": "markdown",
   "id": "fa819624",
   "metadata": {},
   "source": [
    "# Assigment 2 "
   ]
  },
  {
   "cell_type": "code",
   "execution_count": 6,
   "id": "df903ece",
   "metadata": {},
   "outputs": [
    {
     "name": "stdout",
     "output_type": "stream",
     "text": [
      "Enter the marks - 80\n",
      "Grade is C\n"
     ]
    }
   ],
   "source": [
    "#1\n",
    "marks=int(input(\"Enter the marks - \"))\n",
    "if marks>90:\n",
    "    print(\"Grade is A \")\n",
    "elif (marks>80 and marks<=90):\n",
    "    print(\"Grade is B\")\n",
    "elif (marks>=60 and marks<=80):\n",
    "    print(\"Grade is C\")\n",
    "elif (marks<60):\n",
    "    print(\"Grade is D\") \n",
    "    "
   ]
  },
  {
   "cell_type": "code",
   "execution_count": 1,
   "id": "7ad3f214",
   "metadata": {},
   "outputs": [
    {
     "name": "stdout",
     "output_type": "stream",
     "text": [
      "Enter Price of Bike = 1223\n",
      "Road Tax to be Paid is = 61.150000000000006\n"
     ]
    }
   ],
   "source": [
    "#2\n",
    "price_of_bike=int(input(\"Enter Price of Bike = \"))\n",
    "if(price_of_bike>100000):\n",
    "    print(\"Road Tax to be Paid is =\",price_of_bike*0.15)\n",
    "elif(price_of_bike>50000 and price_of_bike<=100000 ):\n",
    "    print(\"Road Tax to be Paid is =\",price_of_bike*0.1)\n",
    "elif(price_of_bike<=50000):\n",
    "    print(\"Road Tax to be Paid is =\",price_of_bike*0.05)    \n",
    "    \n",
    "    "
   ]
  },
  {
   "cell_type": "code",
   "execution_count": 4,
   "id": "8daa8642",
   "metadata": {},
   "outputs": [
    {
     "name": "stdout",
     "output_type": "stream",
     "text": [
      "Enter the city name = Agra\n",
      "Taj Mahal\n"
     ]
    }
   ],
   "source": [
    "#3\n",
    "city=input(\"Enter the city name = \")\n",
    "if city=='Delhi':\n",
    "    print(\"Red Fort\")\n",
    "elif city=='Agra':\n",
    "    print(\"Taj Mahal\")\n",
    "elif city=='Jaipur':\n",
    "    print(\"Jal Mahal\")\n",
    "else:\n",
    "    print(\"Please write correct city name\")"
   ]
  },
  {
   "cell_type": "code",
   "execution_count": 20,
   "id": "05df2aa3",
   "metadata": {},
   "outputs": [
    {
     "name": "stdout",
     "output_type": "stream",
     "text": [
      "Enter the number = 23\n",
      "7.666666666666667\n",
      "1\n"
     ]
    }
   ],
   "source": [
    "#4\n",
    "num=int(input(\"Enter the number = \"))\n",
    "q=0\n",
    "while num>10:\n",
    "    num=num/3\n",
    "    q=q+1\n",
    "    print(num)\n",
    "\n",
    "print(q)    \n",
    "    \n",
    "    \n",
    "    \n",
    "    "
   ]
  },
  {
   "cell_type": "code",
   "execution_count": 35,
   "id": "845c6c89",
   "metadata": {},
   "outputs": [
    {
     "name": "stdout",
     "output_type": "stream",
     "text": [
      "ENter the num 1\n",
      "Test\n"
     ]
    }
   ],
   "source": [
    "#5\n",
    "#while is an entry controlled loop and is used to run a block code until a certain condition is met \n",
    "#Example \n",
    "x=int(input(\"ENter the num \"))\n",
    "while(x<3):\n",
    "    print(\"Test\")\n",
    "    break\n",
    "        \n"
   ]
  },
  {
   "cell_type": "code",
   "execution_count": 38,
   "id": "bc2ed745",
   "metadata": {},
   "outputs": [
    {
     "name": "stdout",
     "output_type": "stream",
     "text": [
      "*\n",
      "**\n",
      "***\n",
      "****\n",
      "*****\n"
     ]
    }
   ],
   "source": [
    "#6\n",
    "x=5\n",
    "row=0\n",
    "while (row<x):\n",
    "    star=row+1\n",
    "    while star>0:\n",
    "        print(\"*\",end=\"\")\n",
    "        star=star-1\n",
    "    row=row+1\n",
    "    print()\n",
    "        \n",
    "    \n",
    "    "
   ]
  },
  {
   "cell_type": "code",
   "execution_count": 45,
   "id": "aaeeef74",
   "metadata": {},
   "outputs": [
    {
     "name": "stdout",
     "output_type": "stream",
     "text": [
      "    * \n",
      "   * * \n",
      "  * * * \n",
      " * * * * \n",
      "* * * * * \n"
     ]
    }
   ],
   "source": [
    "#6\n",
    "x=5\n",
    "row=0\n",
    "while row<x:\n",
    "    space=x-row-1\n",
    "    while space>0:\n",
    "        print(end=\" \")\n",
    "        space=space-1\n",
    "    star=row+1\n",
    "    while star>0:\n",
    "        print('*',end=\" \")\n",
    "        star=star-1\n",
    "    row=row+1\n",
    "    print()\n",
    "        "
   ]
  },
  {
   "cell_type": "code",
   "execution_count": 49,
   "id": "4b6af143",
   "metadata": {},
   "outputs": [
    {
     "name": "stdout",
     "output_type": "stream",
     "text": [
      "    *\n",
      "   **\n",
      "  ***\n",
      " ****\n",
      "*****\n"
     ]
    }
   ],
   "source": [
    "#6\n",
    "x=5\n",
    "row=0\n",
    "while row<x:\n",
    "    space=x-row-1\n",
    "    while space>0:\n",
    "        print(end=\" \")\n",
    "        space=space-1\n",
    "    star=row+1\n",
    "    while star>0:\n",
    "        print('*',end=\"\")\n",
    "        star=star-1\n",
    "    row=row+1\n",
    "    print()"
   ]
  },
  {
   "cell_type": "code",
   "execution_count": 56,
   "id": "0b3f1caa",
   "metadata": {},
   "outputs": [
    {
     "name": "stdout",
     "output_type": "stream",
     "text": [
      "10\n",
      "9\n",
      "8\n",
      "7\n",
      "6\n",
      "5\n",
      "4\n",
      "3\n",
      "2\n",
      "1\n"
     ]
    }
   ],
   "source": [
    "#7\n",
    "num=10\n",
    "while num>0:\n",
    "    print(num)\n",
    "    num=num-1\n",
    "    "
   ]
  },
  {
   "cell_type": "code",
   "execution_count": 57,
   "id": "2a1479eb",
   "metadata": {},
   "outputs": [
    {
     "name": "stdout",
     "output_type": "stream",
     "text": [
      "10\n",
      "9\n",
      "8\n",
      "7\n",
      "6\n",
      "5\n",
      "4\n",
      "3\n",
      "2\n",
      "1\n"
     ]
    }
   ],
   "source": [
    "#8\n",
    "num=10\n",
    "while num>0:\n",
    "    print(num)\n",
    "    num=num-1"
   ]
  },
  {
   "cell_type": "code",
   "execution_count": null,
   "id": "74a86dc4",
   "metadata": {},
   "outputs": [],
   "source": []
  }
 ],
 "metadata": {
  "kernelspec": {
   "display_name": "Python 3 (ipykernel)",
   "language": "python",
   "name": "python3"
  },
  "language_info": {
   "codemirror_mode": {
    "name": "ipython",
    "version": 3
   },
   "file_extension": ".py",
   "mimetype": "text/x-python",
   "name": "python",
   "nbconvert_exporter": "python",
   "pygments_lexer": "ipython3",
   "version": "3.9.7"
  }
 },
 "nbformat": 4,
 "nbformat_minor": 5
}
