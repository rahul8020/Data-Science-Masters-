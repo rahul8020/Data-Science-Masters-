{
 "cells": [
  {
   "cell_type": "markdown",
   "id": "d8c13272",
   "metadata": {},
   "source": [
    "# 05 feb Assignment"
   ]
  },
  {
   "cell_type": "markdown",
   "id": "43eea2f9",
   "metadata": {},
   "source": [
    "# 1"
   ]
  },
  {
   "cell_type": "markdown",
   "id": "efcf71e2",
   "metadata": {},
   "source": [
    "### A Class is like a \"blueprint\" for creating objects . A class defines the attributes and methods \n",
    "### An Object is an physical entity ,an class us used to create many objects \n"
   ]
  },
  {
   "cell_type": "code",
   "execution_count": 1,
   "id": "27c059ab",
   "metadata": {},
   "outputs": [],
   "source": [
    "class apcoer():                                  #class \n",
    "    def __init__(self,nam,ph_number,dept):   \n",
    "        self.name=nam \n",
    "        self.ph_number=ph_number\n",
    "        self.dept=dept\n",
    "    def show(self):\n",
    "        return self,nam,ph_number,dept"
   ]
  },
  {
   "cell_type": "code",
   "execution_count": 3,
   "id": "9c65e88f",
   "metadata": {},
   "outputs": [
    {
     "data": {
      "text/plain": [
       "'Rahul'"
      ]
     },
     "execution_count": 3,
     "metadata": {},
     "output_type": "execute_result"
    }
   ],
   "source": [
    "rahul =apcoer(\"Rahul\",9763422433,\"AIDS\")         #object created \n",
    "rahul.name"
   ]
  },
  {
   "cell_type": "markdown",
   "id": "a9bf06fb",
   "metadata": {},
   "source": [
    "# 2"
   ]
  },
  {
   "cell_type": "markdown",
   "id": "beb5be45",
   "metadata": {},
   "source": [
    "## Four Pillars of OOPS\n",
    "### 1. Abstraction\n",
    "### 2. Encapsulation\n",
    "### 3. Inheritance\n",
    "### 4. Polymorphism"
   ]
  },
  {
   "cell_type": "markdown",
   "id": "b21fa595",
   "metadata": {},
   "source": [
    "# 3"
   ]
  },
  {
   "cell_type": "markdown",
   "id": "fcc0cde8",
   "metadata": {},
   "source": [
    "### Use the __init__() function to assign values to object properties, or other operations that are necessary to do when the object is being created:"
   ]
  },
  {
   "cell_type": "code",
   "execution_count": 4,
   "id": "ec186c98",
   "metadata": {},
   "outputs": [
    {
     "data": {
      "text/plain": [
       "'Rahul'"
      ]
     },
     "execution_count": 4,
     "metadata": {},
     "output_type": "execute_result"
    }
   ],
   "source": [
    "class apcoer():                                  #class \n",
    "    def __init__(self,nam,ph_number,dept):       # An init allow us pass values to the method \n",
    "        self.name=nam \n",
    "        self.ph_number=ph_number\n",
    "        self.dept=dept\n",
    "    def show(self):\n",
    "        return self,nam,ph_number,dept\n",
    "    \n",
    "rahul =apcoer(\"Rahul\",9763422433,\"AIDS\")         #object created \n",
    "rahul.name    "
   ]
  },
  {
   "cell_type": "markdown",
   "id": "22727b9b",
   "metadata": {},
   "source": [
    "# 4"
   ]
  },
  {
   "cell_type": "markdown",
   "id": "4d6d30fd",
   "metadata": {},
   "source": [
    "### The self keyword is used to represent an instance object of the given class"
   ]
  },
  {
   "cell_type": "markdown",
   "id": "e222fa9c",
   "metadata": {},
   "source": [
    "# 5"
   ]
  },
  {
   "cell_type": "markdown",
   "id": "29715932",
   "metadata": {},
   "source": [
    "### An inheritance is an feature of an python which enable us to reuse the code of of an existing classes "
   ]
  },
  {
   "cell_type": "markdown",
   "id": "8d79fb19",
   "metadata": {},
   "source": [
    "## Single inheritance "
   ]
  },
  {
   "cell_type": "code",
   "execution_count": 11,
   "id": "cd0f1116",
   "metadata": {},
   "outputs": [],
   "source": [
    "class a:\n",
    "    def dis(self):\n",
    "        print(\"Halo\")\n",
    "class B(a):\n",
    "    def dis(self):\n",
    "        super().dis()\n",
    "        print(\"Rahul\")"
   ]
  },
  {
   "cell_type": "code",
   "execution_count": 12,
   "id": "64c1cadb",
   "metadata": {},
   "outputs": [
    {
     "name": "stdout",
     "output_type": "stream",
     "text": [
      "Halo\n",
      "Rahul\n"
     ]
    }
   ],
   "source": [
    "b =B()\n",
    "b.dis()"
   ]
  },
  {
   "cell_type": "markdown",
   "id": "85adc8d2",
   "metadata": {},
   "source": [
    "## Multiple inheritance "
   ]
  },
  {
   "cell_type": "code",
   "execution_count": 13,
   "id": "f75bc9e3",
   "metadata": {},
   "outputs": [],
   "source": [
    "class A:\n",
    "    def hi(self):\n",
    "        print(\"Hi\")\n",
    "class B:\n",
    "    def rahul(self):\n",
    "        print(\"Rahul\")\n",
    "class C(A,B):\n",
    "    def ji(self):\n",
    "        super().hi()\n",
    "        super().rahul()\n",
    "        print (\"ji\")"
   ]
  },
  {
   "cell_type": "code",
   "execution_count": 14,
   "id": "518545b3",
   "metadata": {},
   "outputs": [
    {
     "name": "stdout",
     "output_type": "stream",
     "text": [
      "Hi\n",
      "Rahul\n",
      "ji\n"
     ]
    }
   ],
   "source": [
    "c=C()\n",
    "c.ji()"
   ]
  },
  {
   "cell_type": "markdown",
   "id": "d3e6e521",
   "metadata": {},
   "source": [
    "## Multi Level Inheritance \n"
   ]
  },
  {
   "cell_type": "code",
   "execution_count": 22,
   "id": "d5719be6",
   "metadata": {},
   "outputs": [],
   "source": [
    "class P:\n",
    "    def hi(self):\n",
    "        print(\"HI\")\n",
    "class q(P):\n",
    "    def bro(self):\n",
    "        super().hi()\n",
    "        print(\"BRO\")\n",
    "class r(q):\n",
    "    def alls(self):\n",
    "        print(\"ALL\")\n",
    "        super().bro()\n",
    "        "
   ]
  },
  {
   "cell_type": "code",
   "execution_count": 24,
   "id": "1707d77d",
   "metadata": {},
   "outputs": [
    {
     "name": "stdout",
     "output_type": "stream",
     "text": [
      "ALL\n",
      "HI\n",
      "BRO\n"
     ]
    }
   ],
   "source": [
    "R=r()\n",
    "R.alls()"
   ]
  },
  {
   "cell_type": "markdown",
   "id": "dcad3b20",
   "metadata": {},
   "source": [
    "## Hierarchical Inheritance "
   ]
  },
  {
   "cell_type": "code",
   "execution_count": 25,
   "id": "0dea1526",
   "metadata": {},
   "outputs": [
    {
     "name": "stdout",
     "output_type": "stream",
     "text": [
      "Hello from B\n",
      "Hello from C\n"
     ]
    }
   ],
   "source": [
    "class A:\n",
    "    def display(self, output):\n",
    "        print(output)\n",
    "        \n",
    "class B(A):\n",
    "    def display(self):\n",
    "        super().display('Hello from B')\n",
    "        \n",
    "class C(A):\n",
    "    def display(self):\n",
    "        super().display('Hello from C')\n",
    "        \n",
    "b = B()\n",
    "b.display()\n",
    "\n",
    "c = C()\n",
    "c.display()"
   ]
  },
  {
   "cell_type": "markdown",
   "id": "3d6efdcb",
   "metadata": {},
   "source": [
    "## Hybrid Inheritance "
   ]
  },
  {
   "cell_type": "code",
   "execution_count": 28,
   "id": "fc4b8aee",
   "metadata": {},
   "outputs": [
    {
     "name": "stdout",
     "output_type": "stream",
     "text": [
      "Super Parent display method\n",
      "Class C display method\n",
      "Super Parent display method\n",
      "Class D display method\n"
     ]
    }
   ],
   "source": [
    "class A:\n",
    "    def display(self):\n",
    "        print(\"Super Parent display method\")\n",
    "\n",
    "\n",
    "#class B used as intermediate class to call class A's display method\n",
    "class B(A):\n",
    "    def display(self):\n",
    "        super().display()\n",
    "\n",
    "#child classes\n",
    "class C(B):\n",
    "    def display(self):\n",
    "        super().display()\n",
    "        print(\"Class C display method\")\n",
    "        \n",
    "class D(B):\n",
    "    def display(self):\n",
    "        super().display()\n",
    "        print(\"Class D display method\")\n",
    "\n",
    "c = C()\n",
    "c.display()\n",
    "\n",
    "d = D()\n",
    "d.display()"
   ]
  },
  {
   "cell_type": "code",
   "execution_count": null,
   "id": "a0dd8d22",
   "metadata": {},
   "outputs": [],
   "source": []
  }
 ],
 "metadata": {
  "kernelspec": {
   "display_name": "Python 3 (ipykernel)",
   "language": "python",
   "name": "python3"
  },
  "language_info": {
   "codemirror_mode": {
    "name": "ipython",
    "version": 3
   },
   "file_extension": ".py",
   "mimetype": "text/x-python",
   "name": "python",
   "nbconvert_exporter": "python",
   "pygments_lexer": "ipython3",
   "version": "3.9.7"
  }
 },
 "nbformat": 4,
 "nbformat_minor": 5
}
