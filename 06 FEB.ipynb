{
 "cells": [
  {
   "cell_type": "markdown",
   "id": "94276ad1",
   "metadata": {},
   "source": [
    "# 06 FEB "
   ]
  },
  {
   "cell_type": "markdown",
   "id": "c335d193",
   "metadata": {},
   "source": [
    "# 1 "
   ]
  },
  {
   "cell_type": "code",
   "execution_count": 35,
   "id": "7de0dd3b",
   "metadata": {},
   "outputs": [
    {
     "data": {
      "text/plain": [
       "4134711838987085478833841242112000"
      ]
     },
     "execution_count": 35,
     "metadata": {},
     "output_type": "execute_result"
    }
   ],
   "source": [
    "a= [1,2,3,4, [44,55,66, True], False, (34,56,78,89,34), {1,2,3,3,2,1}, {1:34, \"key2\": [55, 67, 78, 89], 4: (45,\n",
    "22, 61, 34)}, [56, 'data science'], 'Machine Learning']\n",
    "\n",
    "def ast():\n",
    "    q=[]\n",
    "    for i in a :\n",
    "        if type(i) == int:\n",
    "            q.append(i)\n",
    "        elif type(i) == list:\n",
    "            for m in i :\n",
    "                if type(m)== int:\n",
    "                    q.append(m)\n",
    "        elif type(i) == tuple :\n",
    "            for n in i :\n",
    "                if type(n)== int:\n",
    "                    q.append(n)\n",
    "        elif type(i) == set :\n",
    "            for o in i :\n",
    "                q.append(o)\n",
    "        elif type(i) == dict :\n",
    "            z=i.keys()\n",
    "            x=i.values()\n",
    "            for p in z:\n",
    "                if type(p) == int :\n",
    "                    q.append(p)\n",
    "            for q1 in x:\n",
    "                if type(q1) == int :\n",
    "                    q.append(q1)\n",
    "                if type(q1)==list:\n",
    "                    for g in q1:\n",
    "                        if type(g)==int:\n",
    "                            q.append(g)\n",
    "                if type (q1)==tuple :\n",
    "                    for j in q1:\n",
    "                        if type(j)==int:\n",
    "                            q.append(j)\n",
    "        from functools import reduce\n",
    "        p2=reduce(lambda x,y:x*y,q)                    \n",
    "                    \n",
    "    return p2     \n",
    "\n",
    "ast()                    \n",
    "                "
   ]
  },
  {
   "cell_type": "markdown",
   "id": "9a199019",
   "metadata": {},
   "source": [
    "# 2"
   ]
  },
  {
   "cell_type": "code",
   "execution_count": 46,
   "id": "941beca2",
   "metadata": {},
   "outputs": [
    {
     "name": "stdout",
     "output_type": "stream",
     "text": [
      "r$dzmg$gl$yvxlnv$z$wzgz$hxrvmgrhg.\n"
     ]
    }
   ],
   "source": [
    "def encrypt(m):\n",
    "    m = message.lower()\n",
    "    mapping = {chr(i): chr(219 - i) for i in range(97, 123)}\n",
    "    encrypte = ''.join(mapping.get(char, char) for char in message)\n",
    "    encrypte = encrypted.replace(' ', '$')\n",
    "    return encrypte\n",
    "m = \"I want to become a Data Scientist.\"\n",
    "encrypte = encrypt(m)\n",
    "print(encrypte)\n"
   ]
  },
  {
   "cell_type": "code",
   "execution_count": null,
   "id": "fa0ad665",
   "metadata": {},
   "outputs": [],
   "source": []
  }
 ],
 "metadata": {
  "kernelspec": {
   "display_name": "Python 3 (ipykernel)",
   "language": "python",
   "name": "python3"
  },
  "language_info": {
   "codemirror_mode": {
    "name": "ipython",
    "version": 3
   },
   "file_extension": ".py",
   "mimetype": "text/x-python",
   "name": "python",
   "nbconvert_exporter": "python",
   "pygments_lexer": "ipython3",
   "version": "3.9.7"
  }
 },
 "nbformat": 4,
 "nbformat_minor": 5
}
