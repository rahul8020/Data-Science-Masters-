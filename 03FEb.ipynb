{
 "cells": [
  {
   "cell_type": "markdown",
   "id": "5ee90128",
   "metadata": {},
   "source": [
    "## Assignment 03 feb"
   ]
  },
  {
   "cell_type": "markdown",
   "id": "15b1facf",
   "metadata": {},
   "source": [
    "### 1\n",
    "### Def keyword is used to create an function "
   ]
  },
  {
   "cell_type": "code",
   "execution_count": 7,
   "id": "6d930eab",
   "metadata": {},
   "outputs": [],
   "source": [
    "def odd():\n",
    "    \n",
    "    m=[]\n",
    "    for i in range(1,25):\n",
    "        if i%2!=0:\n",
    "            m.append(i)\n",
    "    return m    "
   ]
  },
  {
   "cell_type": "code",
   "execution_count": 8,
   "id": "5e400b2f",
   "metadata": {},
   "outputs": [
    {
     "data": {
      "text/plain": [
       "[1, 3, 5, 7, 9, 11, 13, 15, 17, 19, 21, 23]"
      ]
     },
     "execution_count": 8,
     "metadata": {},
     "output_type": "execute_result"
    }
   ],
   "source": [
    "odd()"
   ]
  },
  {
   "cell_type": "markdown",
   "id": "90c3fa40",
   "metadata": {},
   "source": [
    "### 2\n",
    "##### The * args enable us to pass varible number of arguments we want to pass and **kwargs is used to pass an key value pair in arguments example - Dictnoary"
   ]
  },
  {
   "cell_type": "code",
   "execution_count": 13,
   "id": "4918f154",
   "metadata": {},
   "outputs": [],
   "source": [
    "#ex \n",
    "def m(*name):\n",
    "    return name"
   ]
  },
  {
   "cell_type": "code",
   "execution_count": 14,
   "id": "39aae1be",
   "metadata": {},
   "outputs": [
    {
     "data": {
      "text/plain": [
       "('rahul', 'mahesh', 124234, 2423)"
      ]
     },
     "execution_count": 14,
     "metadata": {},
     "output_type": "execute_result"
    }
   ],
   "source": [
    "m(\"rahul\",\"mahesh\",124234,2423) #returns an tuple "
   ]
  },
  {
   "cell_type": "code",
   "execution_count": 16,
   "id": "3014734b",
   "metadata": {},
   "outputs": [],
   "source": [
    "def m2(**name):\n",
    "    return name"
   ]
  },
  {
   "cell_type": "code",
   "execution_count": 19,
   "id": "c448a1fd",
   "metadata": {},
   "outputs": [
    {
     "data": {
      "text/plain": [
       "{'age': 12, 'classs': 2}"
      ]
     },
     "execution_count": 19,
     "metadata": {},
     "output_type": "execute_result"
    }
   ],
   "source": [
    "m2(age=12,classs=2) # it returns an key value pair "
   ]
  },
  {
   "cell_type": "markdown",
   "id": "81016922",
   "metadata": {},
   "source": [
    "### 3 \n",
    "#### An iterator is used to iterate from the data. The iter() is used to inatlise an interator object "
   ]
  },
  {
   "cell_type": "code",
   "execution_count": 20,
   "id": "d2f36e41",
   "metadata": {},
   "outputs": [
    {
     "name": "stdout",
     "output_type": "stream",
     "text": [
      "2\n",
      "4\n",
      "6\n",
      "8\n",
      "10\n"
     ]
    }
   ],
   "source": [
    "my_list = [2, 4, 6, 8, 10, 12, 14, 16, 18, 20]\n",
    "q= iter(my_list)\n",
    "for i in range(5):\n",
    "    print(next(q))\n",
    "\n"
   ]
  },
  {
   "cell_type": "markdown",
   "id": "1029ce8f",
   "metadata": {},
   "source": [
    "### 4\n",
    "#### A generator function in Python is a function that returns a generator iterator the yield keyword to return a value and then pause the function's execution, preserving its state for the next call."
   ]
  },
  {
   "cell_type": "code",
   "execution_count": 22,
   "id": "b54d0d4a",
   "metadata": {},
   "outputs": [
    {
     "name": "stdout",
     "output_type": "stream",
     "text": [
      "0\n",
      "1\n",
      "1\n",
      "2\n",
      "3\n",
      "5\n",
      "8\n",
      "13\n",
      "21\n",
      "34\n",
      "55\n",
      "89\n"
     ]
    }
   ],
   "source": [
    "#Program for fibinnocis series by using function generator \n",
    "def fibb(n):\n",
    "    a,b=0,1\n",
    "    for i in range(n):\n",
    "        yield a\n",
    "        a,b=b,a+b\n",
    "        \n",
    "for i in fibb(12):\n",
    "    print(i)"
   ]
  },
  {
   "cell_type": "markdown",
   "id": "26cc3c7a",
   "metadata": {},
   "source": [
    "### 5\n"
   ]
  },
  {
   "cell_type": "code",
   "execution_count": 30,
   "id": "c97ca878",
   "metadata": {},
   "outputs": [],
   "source": [
    "def prime_num():\n",
    "    primes = []\n",
    "    for num in range(2,1000):\n",
    "        e = True\n",
    "        for prime in primes:\n",
    "            if num % prime == 0:\n",
    "                e = False\n",
    "                break\n",
    "        if e:\n",
    "            primes.append(num)\n",
    "            yield num\n",
    "\n",
    "\n",
    "primes = prime_num()\n",
    "\n"
   ]
  },
  {
   "cell_type": "code",
   "execution_count": 31,
   "id": "5ee8d7bf",
   "metadata": {},
   "outputs": [
    {
     "name": "stdout",
     "output_type": "stream",
     "text": [
      "2\n",
      "3\n",
      "5\n",
      "7\n",
      "11\n",
      "13\n",
      "17\n",
      "19\n",
      "23\n",
      "29\n",
      "31\n",
      "37\n",
      "41\n",
      "43\n",
      "47\n",
      "53\n",
      "59\n",
      "61\n",
      "67\n",
      "71\n"
     ]
    }
   ],
   "source": [
    "for i in range(20):\n",
    "    print(next(primes))\n"
   ]
  },
  {
   "cell_type": "code",
   "execution_count": null,
   "id": "8b745e70",
   "metadata": {},
   "outputs": [],
   "source": []
  }
 ],
 "metadata": {
  "kernelspec": {
   "display_name": "Python 3 (ipykernel)",
   "language": "python",
   "name": "python3"
  },
  "language_info": {
   "codemirror_mode": {
    "name": "ipython",
    "version": 3
   },
   "file_extension": ".py",
   "mimetype": "text/x-python",
   "name": "python",
   "nbconvert_exporter": "python",
   "pygments_lexer": "ipython3",
   "version": "3.9.7"
  }
 },
 "nbformat": 4,
 "nbformat_minor": 5
}
