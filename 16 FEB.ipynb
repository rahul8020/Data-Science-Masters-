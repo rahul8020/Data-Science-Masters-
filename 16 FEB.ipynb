{
 "cells": [
  {
   "cell_type": "markdown",
   "id": "5b044087",
   "metadata": {},
   "source": [
    "# 16 FEB ASSIGNMENT"
   ]
  },
  {
   "cell_type": "markdown",
   "id": "9be5a554",
   "metadata": {},
   "source": [
    "# 1"
   ]
  },
  {
   "cell_type": "markdown",
   "id": "e658757f",
   "metadata": {},
   "source": [
    "### A database is a collection of data that is organized in a way that allows efficient storage, retrieval, and manipulation of that data. Databases can be used to store information such as customer records, product catalogs, financial transactions, or any other type of data that needs to be managed and accessed.\n",
    "\n",
    "### SQL (Structured Query Language) and NoSQL (Not Only SQL) are two types of databases that differ in their approach to data storage and retrieval:\n",
    "\n",
    "### SQL Databases:\n",
    "### SQL databases are relational databases that store data in tables with columns and rows, and use SQL to manipulate and query the data. SQL databases are known for their ACID (Atomicity, Consistency, Isolation, Durability) compliance, which ensures that transactions are processed reliably and consistently. SQL databases are widely used in enterprise applications, financial systems, and other data-intensive applications that require high levels of data consistency and reliability.\n",
    "### Examples of SQL databases include MySQL, Oracle, PostgreSQL, and Microsoft SQL Server.\n",
    "\n",
    "### NoSQL Databases:\n",
    "### NoSQL databases are non-relational databases that store data in a variety of formats, including key-value pairs, document-oriented databases, column-family stores, and graph databases. NoSQL databases are designed to scale horizontally and can handle large volumes of data and high levels of traffic. NoSQL databases are known for their flexibility and ability to handle unstructured data, but they may sacrifice some data consistency and reliability for performance.\n",
    "### Examples of NoSQL databases include MongoDB, Cassandra, Couchbase, and Redis.\n",
    "\n",
    "\n",
    "\n",
    "\n"
   ]
  },
  {
   "cell_type": "code",
   "execution_count": 2,
   "id": "0bcc522c",
   "metadata": {},
   "outputs": [],
   "source": [
    "# 2"
   ]
  },
  {
   "cell_type": "markdown",
   "id": "5d783015",
   "metadata": {},
   "source": [
    "### DDL stands for Data Definition Language\n",
    "### 1\n",
    "#### CREATE: The CREATE statement is used to create a new database object, such as a table, index, or constraint. For example, the following statement creates a new table called \"employees\":\n",
    "#### CREATE TABLE employees (\n",
    "####   id INT PRIMARY KEY,\n",
    "####   name VARCHAR(50),\n",
    "####   salary DECIMAL(10,2)\n",
    "#### );\n",
    "#### DROP: The DROP statement is used to delete an existing database object, such as a table, index, or constraint. For example, the following statement drops the \"employees\" table:\n",
    "#### DROP TABLE employees;\n",
    "#### ALTER: The ALTER statement is used to modify the structure of an existing database object, such as a table, column, or constraint. For example, the following statement adds a new column called \"age\" to the \"employees\" table:\n",
    "#### ALTER TABLE employees ADD COLUMN age CHR;\n",
    "#### TRUNCATE: The TRUNCATE statement is used to delete all rows from an existing table, while keeping its structure intact. For example, the following statement removes all rows from the \"employees\" table:\\\n",
    "#### TRUNCATE TABLE employees;\n",
    "\n"
   ]
  },
  {
   "cell_type": "markdown",
   "id": "32feb353",
   "metadata": {},
   "source": [
    "# 3"
   ]
  },
  {
   "cell_type": "markdown",
   "id": "13bfc010",
   "metadata": {},
   "source": [
    "#### DML stands for Data Manipulation Language, which is a category of SQL commands used to manipulate and interact with the data stored in a database. DML statements are used to add, modify, and delete data within a database.\n",
    "#### INSERT: The INSERT statement is used to add new data to a database table. For example, the following statement inserts a new row into the \"employees\" table:\n",
    "#### INSERT INTO employees (id, name, salary) VALUES (1, 'RAHUL', 2350000.00);\n",
    "#### UPDATE: The UPDATE statement is used to modify existing data in a database table. For example, the following statement updates the \"salary\" of the employee with an \"id\" of 1 in the \"employees\" table:\n",
    "#### UPDATE employees SET salary = 55000.00 WHERE id = 1;\n",
    "#### DELETE: The DELETE statement is used to remove data from a database table. For example, the following statement deletes the row for the employee with an \"id\" of 1 in the \"employees\" table: abs\n",
    "#### DELETE FROM employees WHERE id = 1;\n"
   ]
  },
  {
   "cell_type": "markdown",
   "id": "f2ec1cf5",
   "metadata": {},
   "source": [
    "# 4"
   ]
  },
  {
   "cell_type": "markdown",
   "id": "aa337e56",
   "metadata": {},
   "source": [
    "#### DQL stands for Data Query Language, which is a category of SQL commands used to retrieve and query data from a database. DQL statements are used to retrieve data from one or more tables in a database.\n",
    "#### SELECT * FROM employees WHERE salary > 50000;\n",
    "#### SELECT: This keyword indicates that we want to retrieve data from the specified columns in the specified table(s).\n",
    "#### *: This symbol indicates that we want to retrieve all columns from the specified table(s). Alternatively, we could list specific column names instead of using the * symbol.\n",
    "#### FROM: This keyword indicates the table(s) from which we want to retrieve data.\n",
    "#### employees: This is the name of the table from which we want to retrieve data.\n",
    "#### WHERE: This keyword indicates that we want to apply a condition to the data that we retrieve.\n",
    "#### salary > 50000: This is the condition that we want to apply to the data that we retrieve. In this case, we want to retrieve only those rows where the \"salary\" column is greater than 50000."
   ]
  },
  {
   "cell_type": "markdown",
   "id": "bb9eb446",
   "metadata": {},
   "source": [
    "# 5"
   ]
  },
  {
   "cell_type": "markdown",
   "id": "ee41171f",
   "metadata": {},
   "source": [
    "#### Primary Key:A primary key is a column or set of columns in a database table that uniquely identifies each row in that table. Primary keys are used to enforce the integrity of the data in a table, and they ensure that each row in the table is uniquely identifiable.\n",
    "#### For example, in a table of \"employees\", the \"id\" column could be designated as the primary key. Each employee would have a unique \"id\" value, and this value would be used to identify that employee in other tables within the database.\n",
    "\n",
    "#### Foreign Key: A foreign key is a column or set of columns in a database table that refers to the primary key of another table. The purpose of a foreign key is to link two tables together, allowing data to be retrieved from multiple tables at once.\n",
    "#### For example, in a database with separate tables for \"employees\" and \"departments\", the \"department_id\" column in the \"employees\" table could be designated as a foreign key. This column would refer to the primary key of the \"departments\" table, which would allow data to be retrieved about both the employee and the department to which they belong."
   ]
  },
  {
   "cell_type": "code",
   "execution_count": 6,
   "id": "f2772db0",
   "metadata": {},
   "outputs": [],
   "source": [
    "# 6"
   ]
  },
  {
   "cell_type": "code",
   "execution_count": 11,
   "id": "91bebc2e",
   "metadata": {},
   "outputs": [],
   "source": [
    "import mysql.connector\n",
    "mydb=mysql.connector.connect(\n",
    "    host=\"localhost\",\n",
    "    user=\"root\",\n",
    "    password=\"123456\",\n",
    "    database=\"py\"\n",
    ")\n",
    "\n"
   ]
  },
  {
   "cell_type": "markdown",
   "id": "7f6fe69e",
   "metadata": {},
   "source": [
    "#### cursor(): The cursor() method is used to create a cursor object, which is used to execute SQL commands and retrieve data from a database. This method is typically called on a database connection object.\n",
    "#### execute(): The execute() method is used to execute SQL commands on a database using a cursor object. This method takes an SQL command as an argument, and returns a result set if applicable.\n"
   ]
  },
  {
   "cell_type": "code",
   "execution_count": 15,
   "id": "4b4e9573",
   "metadata": {},
   "outputs": [],
   "source": [
    "import mysql.connector\n",
    "mydb=mysql.connector.connect(\n",
    "    host=\"localhost\",\n",
    "    user=\"root\",\n",
    "    password=\"123456\",\n",
    "    database=\"py\"\n",
    ")\n",
    "\n",
    "cursor=mydb.cursor()\n",
    "cursor.execute(\"CREATE TABLE IF NOT EXISTS employees (id INT PRIMARY KEY,name VARCHAR(50),salary DECIMAL(10,2));\")  # USed to execute the SQL commands \n",
    "mydb.commit()  # Is used to save the changes which have been through the execute method in to the database  \n",
    "mydb.close()    "
   ]
  },
  {
   "cell_type": "markdown",
   "id": "c62f56b6",
   "metadata": {},
   "source": [
    "# 6"
   ]
  },
  {
   "cell_type": "markdown",
   "id": "0108640a",
   "metadata": {},
   "source": [
    "### In a SQL query, the order of execution of the SQL clauses is as follows:\n",
    "#### 1.FROM: This clause specifies the table or tables from which the data will be retrieved.\n",
    "#### 2.JOIN: This clause is used to combine data from two or more tables.\n",
    "#### 3.WHERE: This clause is used to filter the data based on a specific condition.\n",
    "#### 4.SELECT: This clause is used to select the columns that will be retrieved from the table(s).\n",
    "#### 5.GROUP BY: This clause is used to group the data based on one or more columns.\n",
    "#### 6.LIMIT: This clause is used to limit the number of rows returned by the query.\n",
    "#### 7.HAVING: This clause is used to filter the grouped data based on a specific condition.\n",
    "#### 8.DISTINCT: This clause is used to remove duplicate rows from the result set.\n",
    "#### 9.ORDER BY: This clause is used to sort the data based on one or more columns.\n",
    "\n",
    "\n",
    "\n",
    "\n",
    "\n",
    "\n",
    "\n"
   ]
  },
  {
   "cell_type": "code",
   "execution_count": null,
   "id": "edf231b0",
   "metadata": {},
   "outputs": [],
   "source": []
  }
 ],
 "metadata": {
  "kernelspec": {
   "display_name": "Python 3 (ipykernel)",
   "language": "python",
   "name": "python3"
  },
  "language_info": {
   "codemirror_mode": {
    "name": "ipython",
    "version": 3
   },
   "file_extension": ".py",
   "mimetype": "text/x-python",
   "name": "python",
   "nbconvert_exporter": "python",
   "pygments_lexer": "ipython3",
   "version": "3.9.7"
  }
 },
 "nbformat": 4,
 "nbformat_minor": 5
}
