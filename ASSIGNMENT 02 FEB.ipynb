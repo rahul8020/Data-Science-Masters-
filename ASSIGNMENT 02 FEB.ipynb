{
 "cells": [
  {
   "cell_type": "markdown",
   "id": "cf33cd5e",
   "metadata": {},
   "source": [
    "# ASSIGNMENT 02 FEB"
   ]
  },
  {
   "cell_type": "markdown",
   "id": "d620aae3",
   "metadata": {},
   "source": [
    "### QI. What are the characteristics of the tuples? Is tuple immutable?\n",
    "### Ans-Tuple items are ordered, unchangeable,allow duplicate values and Tuple items are indexed . Yes Tuples are immutable."
   ]
  },
  {
   "cell_type": "markdown",
   "id": "33c88c72",
   "metadata": {},
   "source": [
    "### Q2. What are the two tuple methods in python? Give an example of each method. Give a reason why tuples have only two in-built methods as compared to Lists.\n",
    "### Ans- The two methods are count() and Index(). Because Tuples are immutable thus they have only method which do not change the values in tuple "
   ]
  },
  {
   "cell_type": "code",
   "execution_count": 3,
   "id": "ac6872d0",
   "metadata": {},
   "outputs": [
    {
     "data": {
      "text/plain": [
       "2"
      ]
     },
     "execution_count": 3,
     "metadata": {},
     "output_type": "execute_result"
    }
   ],
   "source": [
    "t=(1,2,34,5,3)\n",
    "t.count(2)\n",
    "t.index(34)"
   ]
  },
  {
   "cell_type": "markdown",
   "id": "aa3712bc",
   "metadata": {},
   "source": [
    "### 3"
   ]
  },
  {
   "cell_type": "code",
   "execution_count": 5,
   "id": "48a01433",
   "metadata": {},
   "outputs": [
    {
     "data": {
      "text/plain": [
       "{1, 2, 3, 4}"
      ]
     },
     "execution_count": 5,
     "metadata": {},
     "output_type": "execute_result"
    }
   ],
   "source": [
    "#Sets is an data collection which dont allow duplicate values \n",
    "List = [1, 1, 1, 2, 1, 3, 1, 4, 2, 1, 2, 2, 2, 3, 2, 4, 3, 1, 3, 2, 3, 3, 3, 4, 4, 1, 4, 2, 4, 3, 4, 4]\n",
    "s=set(List)\n",
    "s"
   ]
  },
  {
   "cell_type": "markdown",
   "id": "da28d2bf",
   "metadata": {},
   "source": [
    "### 4"
   ]
  },
  {
   "cell_type": "code",
   "execution_count": 20,
   "id": "71ba5905",
   "metadata": {},
   "outputs": [
    {
     "name": "stdout",
     "output_type": "stream",
     "text": [
      "{1, 2, 4, 5, 6, 7, 8, 9}\n",
      "{1, 2, 4, 5, 6, 7, 8, 9}\n"
     ]
    }
   ],
   "source": [
    "m={1,4,5,6,7}\n",
    "n={2,8,9}\n",
    "m.update(n) #return set m with elements added from n\n",
    "print(m)\n",
    "\n",
    "q=n.union(m) #new set with elements from both s and t\n",
    "print(q)"
   ]
  },
  {
   "cell_type": "markdown",
   "id": "ae6d246e",
   "metadata": {},
   "source": [
    "### 5"
   ]
  },
  {
   "cell_type": "code",
   "execution_count": 26,
   "id": "212b86a5",
   "metadata": {},
   "outputs": [
    {
     "data": {
      "text/plain": [
       "'rahul'"
      ]
     },
     "execution_count": 26,
     "metadata": {},
     "output_type": "execute_result"
    }
   ],
   "source": [
    "#A Dictionary in Python is the unordered and changeable collection of data values that holds key-value pairs.\n",
    "dic={'name':'rahul','age':20}\n",
    "dic['name']\n"
   ]
  },
  {
   "cell_type": "markdown",
   "id": "39741338",
   "metadata": {},
   "source": [
    "### 6"
   ]
  },
  {
   "cell_type": "code",
   "execution_count": 27,
   "id": "aac121d8",
   "metadata": {},
   "outputs": [
    {
     "data": {
      "text/plain": [
       "'Rahul'"
      ]
     },
     "execution_count": 27,
     "metadata": {},
     "output_type": "execute_result"
    }
   ],
   "source": [
    "#Yes we can create nested dictionary \n",
    "d={'students':{'Rollno':1,'Name':'Rahul'}}\n",
    "d['students']['Name']"
   ]
  },
  {
   "cell_type": "markdown",
   "id": "48253175",
   "metadata": {},
   "source": [
    "### 7"
   ]
  },
  {
   "cell_type": "code",
   "execution_count": 43,
   "id": "9120d39a",
   "metadata": {},
   "outputs": [
    {
     "data": {
      "text/plain": [
       "{'language': 'Python',\n",
       " 'course': 'Data Science Masters',\n",
       " 'Topics': ['Python', 'machine learing', 'Deep Learning']}"
      ]
     },
     "execution_count": 43,
     "metadata": {},
     "output_type": "execute_result"
    }
   ],
   "source": [
    "dict1= {'language' : 'Python', 'course': 'Data Science Masters'} \n",
    "dict1.setdefault('Topics',[\"Python\",\"machine learing\",\"Deep Learning\"])\n",
    "dict1"
   ]
  },
  {
   "cell_type": "markdown",
   "id": "01473b8e",
   "metadata": {},
   "source": [
    "### 8"
   ]
  },
  {
   "cell_type": "code",
   "execution_count": 47,
   "id": "76c99977",
   "metadata": {},
   "outputs": [
    {
     "name": "stdout",
     "output_type": "stream",
     "text": [
      "dict_keys(['sport', 'Teams'])\n",
      "dict_values(['Cricket', ['India', 'Australia', 'England', 'South Africa', 'sri Lanka', 'New Zealand']])\n",
      "dict_items([('sport', 'Cricket'), ('Teams', ['India', 'Australia', 'England', 'South Africa', 'sri Lanka', 'New Zealand'])])\n"
     ]
    }
   ],
   "source": [
    "dict2 = {'sport': 'Cricket' , 'Teams': ['India', 'Australia', 'England', 'South Africa', 'sri Lanka', 'New Zealand']}\n",
    "print(dict2.keys())\n",
    "print(dict2.values())\n",
    "print(dict2.items())"
   ]
  },
  {
   "cell_type": "code",
   "execution_count": null,
   "id": "9ffe9308",
   "metadata": {},
   "outputs": [],
   "source": []
  }
 ],
 "metadata": {
  "kernelspec": {
   "display_name": "Python 3 (ipykernel)",
   "language": "python",
   "name": "python3"
  },
  "language_info": {
   "codemirror_mode": {
    "name": "ipython",
    "version": 3
   },
   "file_extension": ".py",
   "mimetype": "text/x-python",
   "name": "python",
   "nbconvert_exporter": "python",
   "pygments_lexer": "ipython3",
   "version": "3.9.7"
  }
 },
 "nbformat": 4,
 "nbformat_minor": 5
}
